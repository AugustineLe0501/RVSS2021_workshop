{
 "cells": [
  {
   "cell_type": "markdown",
   "metadata": {},
   "source": [
    "<table>\n",
    "  <tr>\n",
    "     <td><img src=\"images/RVSS-logo.png\" width=\"400\"></td>\n",
    "  </tr>\n",
    "</table>"
   ]
  },
  {
   "cell_type": "markdown",
   "metadata": {},
   "source": [
    "# <center>Welcome to RVSS 2021</center>\n",
    "\n",
    "This notebook will help you to:\n",
    "- familirize yourself with the Amazon SageMaker Notebook that will be used during the **Tutorial** sessions\n",
    "- test your setup in preparation for the summer school"
   ]
  },
  {
   "cell_type": "markdown",
   "metadata": {},
   "source": [
    "## Selecting the Right Kernel\n",
    "\n",
    "Different notebooks require different Python kernels. To change the kernel in use:\n",
    "1. go to ***Kernel*** menu\n",
    "2. select the option ***Change kernel***\n",
    "3. choose ***conda_mxnet_p36***\n",
    "\n",
    "Let us now run some basic Pytorch example taken from [Pytorch official website](https://pytorch.org/tutorials/beginner/examples_nn/polynomial_nn.html#sphx-glr-beginner-examples-nn-polynomial-nn-py)\n",
    "\n",
    "Since the kernel we have selected does not include Pytorch, the code shown below fails to run. \n",
    "\n",
    "Go back to the ***Kernel*** menu and select ***conda_pytorch_p36***. Try to run the code again"
   ]
  },
  {
   "cell_type": "code",
   "execution_count": null,
   "metadata": {},
   "outputs": [],
   "source": [
    "import torch\n",
    "import math\n",
    "\n",
    "# if gpu is to be used\n",
    "device = torch.device(\"cuda\" if torch.cuda.is_available() else \"cpu\")\n",
    "print(\"This code is runnin on a {}\".format(device))\n",
    "\n",
    "# Create Tensors to hold input and outputs.\n",
    "x = torch.linspace(-math.pi, math.pi, 2000)\n",
    "y = torch.sin(x)\n",
    "\n",
    "# For this example, the output y is a linear function of (x, x^2, x^3), so\n",
    "# we can consider it as a linear layer neural network. Let's prepare the\n",
    "# tensor (x, x^2, x^3).\n",
    "p = torch.tensor([1, 2, 3])\n",
    "xx = x.unsqueeze(-1).pow(p)\n",
    "\n",
    "# In the above code, x.unsqueeze(-1) has shape (2000, 1), and p has shape\n",
    "# (3,), for this case, broadcasting semantics will apply to obtain a tensor\n",
    "# of shape (2000, 3)\n",
    "\n",
    "# Use the nn package to define our model as a sequence of layers. nn.Sequential\n",
    "# is a Module which contains other Modules, and applies them in sequence to\n",
    "# produce its output. The Linear Module computes output from input using a\n",
    "# linear function, and holds internal Tensors for its weight and bias.\n",
    "# The Flatten layer flatens the output of the linear layer to a 1D tensor,\n",
    "# to match the shape of `y`.\n",
    "model = torch.nn.Sequential(\n",
    "    torch.nn.Linear(3, 1),\n",
    "    torch.nn.Flatten(0, 1)\n",
    ")\n",
    "\n",
    "# The nn package also contains definitions of popular loss functions; in this\n",
    "# case we will use Mean Squared Error (MSE) as our loss function.\n",
    "loss_fn = torch.nn.MSELoss(reduction='sum')\n",
    "\n",
    "learning_rate = 1e-6\n",
    "for t in range(2000):\n",
    "\n",
    "    # Forward pass: compute predicted y by passing x to the model. Module objects\n",
    "    # override the __call__ operator so you can call them like functions. When\n",
    "    # doing so you pass a Tensor of input data to the Module and it produces\n",
    "    # a Tensor of output data.\n",
    "    y_pred = model(xx)\n",
    "\n",
    "    # Compute and print loss. We pass Tensors containing the predicted and true\n",
    "    # values of y, and the loss function returns a Tensor containing the\n",
    "    # loss.\n",
    "    loss = loss_fn(y_pred, y)\n",
    "    if t % 100 == 99:\n",
    "        print(t, loss.item())\n",
    "\n",
    "    # Zero the gradients before running the backward pass.\n",
    "    model.zero_grad()\n",
    "\n",
    "    # Backward pass: compute gradient of the loss with respect to all the learnable\n",
    "    # parameters of the model. Internally, the parameters of each Module are stored\n",
    "    # in Tensors with requires_grad=True, so this call will compute gradients for\n",
    "    # all learnable parameters in the model.\n",
    "    loss.backward()\n",
    "\n",
    "    # Update the weights using gradient descent. Each parameter is a Tensor, so\n",
    "    # we can access its gradients like we did before.\n",
    "    with torch.no_grad():\n",
    "        for param in model.parameters():\n",
    "            param -= learning_rate * param.grad\n",
    "\n",
    "# You can access the first layer of `model` like accessing the first item of a list\n",
    "linear_layer = model[0]\n",
    "\n",
    "# For linear layer, its parameters are stored as `weight` and `bias`.\n",
    "print(f'Result: y = {linear_layer.bias.item()} + {linear_layer.weight[:, 0].item()} x + {linear_layer.weight[:, 1].item()} x^2 + {linear_layer.weight[:, 2].item()} x^3')"
   ]
  },
  {
   "cell_type": "markdown",
   "metadata": {},
   "source": [
    "## Testing OpenCV\n",
    "\n",
    "The code shown below allows you to read and display an image. To run this code select the ***conda_mxnet_p36*** kernel"
   ]
  },
  {
   "cell_type": "code",
   "execution_count": null,
   "metadata": {},
   "outputs": [],
   "source": [
    "%matplotlib notebook\n",
    "import cv2\n",
    "import numpy as np\n",
    "import matplotlib.pyplot as plt\n",
    "import os.path\n",
    "import math\n",
    "\n",
    "# read an image with colors in RGB order for matplotlib\n",
    "def iread(filename):\n",
    "     return cv2.cvtColor(cv2.imread(os.path.join('images', filename)), cv2.COLOR_BGR2GRAY)\n",
    "\n",
    "def idisp(image, title='Image', small=False, interaction=True, cmap='gray'):\n",
    "    def mouse_move(self, event, image):\n",
    "        if event.inaxes and event.inaxes.get_navigate():\n",
    "            u = int(round(event.xdata))\n",
    "            v = int(round(event.ydata))\n",
    "            self.set_message(\"I[%d, %d] = %d\" % (u, v, image[v,u]))\n",
    "        \n",
    "    if small:\n",
    "        fig = plt.figure(figsize=(3,3))\n",
    "    else:\n",
    "        fig = plt.figure(figsize=(6,6))\n",
    "    plt.rcParams['toolbar'] = 'None' \n",
    "\n",
    "    plt.imshow(image, cmap, interpolation='none')\n",
    "    ax = plt.gca()\n",
    "    plt.grid(True)\n",
    "    plt.xlabel('u (pixels)')\n",
    "    plt.ylabel('v (pixels)')\n",
    "    #plt.title(title)\n",
    "    if interaction:\n",
    "        fig.canvas.toolbar._idDrag = fig.canvas.mpl_connect(\n",
    "                        'motion_notify_event', \n",
    "                        lambda arg: mouse_move(fig.canvas.toolbar, arg, image))\n",
    "    plt.show()\n",
    "    \n",
    "image = iread('monalisa.png')\n",
    "idisp(image)"
   ]
  },
  {
   "cell_type": "markdown",
   "metadata": {},
   "source": [
    "## Installing a Package\n",
    "\n",
    "To add a package to a kernel, we can execute the following command in a code cell\n",
    "\n",
    "```python \n",
    "import sys\n",
    "!{sys.executable} -m pip install <package_name>```\n",
    "\n",
    "After installation, the new package will be ready to use.\n",
    "\n",
    "**<font color='blue'>[Important]</font>**: All packages installed within a notebook are lost once we stop the notebook instance. You will need to run the install command every time you start the notebook instance on Amazon SageMaker"
   ]
  },
  {
   "cell_type": "code",
   "execution_count": null,
   "metadata": {},
   "outputs": [],
   "source": [
    "import sys\n",
    "!{sys.executable} -m pip install gym"
   ]
  },
  {
   "cell_type": "code",
   "execution_count": 4,
   "metadata": {},
   "outputs": [
    {
     "data": {
      "text/plain": [
       "Text(0.5, 1.0, 'Average return 22.83 +- 11.33')"
      ]
     },
     "execution_count": 4,
     "metadata": {},
     "output_type": "execute_result"
    },
    {
     "data": {
      "image/png": "[encoded data removed]",
      "text/plain": [
       "<Figure size 288x288 with 1 Axes>"
      ]
     },
     "metadata": {
      "needs_background": "light"
     },
     "output_type": "display_data"
    }
   ],
   "source": [
    "import gym\n",
    "import io\n",
    "import base64\n",
    "from IPython.display import HTML\n",
    "from IPython.display import clear_output\n",
    "import matplotlib.pyplot as plt\n",
    "import numpy as np\n",
    "%matplotlib inline\n",
    "\n",
    "env = gym.make(\"CartPole-v0\")\n",
    "n_trials = 100\n",
    "list_rewards = []\n",
    "\n",
    "for i in range(n_trials):\n",
    "    observation = env.reset()\n",
    "    ep_return = 0\n",
    "    done = False\n",
    "    while not done:\n",
    "        action = env.action_space.sample()\n",
    "        observation, reward, done, info = env.step(action)\n",
    "        ep_return += reward\n",
    "    list_rewards.append(ep_return)\n",
    "env.close()\n",
    "\n",
    "fig, ax = plt.subplots(figsize=(4, 4))\n",
    "ax.plot(list_rewards)\n",
    "ax.set_xlabel(\"Num. Trial\")\n",
    "ax.set_ylabel(\"Return\")\n",
    "ax.set_title('Average return %s +- %s' % (np.round(np.mean(list_rewards),2), np.round(np.std(list_rewards), 2)))"
   ]
  },
  {
   "cell_type": "markdown",
   "metadata": {},
   "source": [
    "# <font color='blue'>Things to Keep in Mind</font>\n",
    "\n",
    "1. **Do not forget to stop the notebook instances once you are done**. Otherwise, you risk running out of credits\n",
    "2. If you want to keep a copy of any changes you have made in a Jupyter notebook, you can download a copy of each notebook or set up a 2nd remote git repository. Instructions on how to set up this repo are provided in Moodle"
   ]
  },
  {
   "cell_type": "code",
   "execution_count": null,
   "metadata": {},
   "outputs": [],
   "source": []
  }
 ],
 "metadata": {
  "kernelspec": {
   "display_name": "IntelligentRobotics",
   "language": "python",
   "name": "intelligentrobotics"
  },
  "language_info": {
   "codemirror_mode": {
    "name": "ipython",
    "version": 3
   },
   "file_extension": ".py",
   "mimetype": "text/x-python",
   "name": "python",
   "nbconvert_exporter": "python",
   "pygments_lexer": "ipython3",
   "version": "3.8.5"
  }
 },
 "nbformat": 4,
 "nbformat_minor": 2
}
