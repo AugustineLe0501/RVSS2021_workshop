{
 "cells": [
  {
   "cell_type": "markdown",
   "metadata": {},
   "source": [
    "<table>\n",
    "  <tr>\n",
    "      <td><div align=\"left\"><font size=\"20\" >Central camera projection model</font></div></td>\n",
    "     <td><img src=\"images/RVSS-logo.png\" width=\"400\"></td>\n",
    "  </tr>\n",
    "</table>"
   ]
  },
  {
   "cell_type": "code",
   "execution_count": 1,
   "metadata": {},
   "outputs": [
    {
     "name": "stdout",
     "output_type": "stream",
     "text": [
      "Requirement already satisfied: machinevision-toolbox-python in /home/ec2-user/anaconda3/envs/mxnet_p36/lib/python3.6/site-packages (0.5.4)\n",
      "Requirement already satisfied: opencv-python in /home/ec2-user/anaconda3/envs/mxnet_p36/lib/python3.6/site-packages (from machinevision-toolbox-python) (4.2.0.32)\n",
      "Requirement already satisfied: ansitable in /home/ec2-user/anaconda3/envs/mxnet_p36/lib/python3.6/site-packages (from machinevision-toolbox-python) (0.9.5)\n",
      "Requirement already satisfied: numpy in /home/ec2-user/anaconda3/envs/mxnet_p36/lib/python3.6/site-packages (from machinevision-toolbox-python) (1.19.4)\n",
      "Requirement already satisfied: scipy in /home/ec2-user/anaconda3/envs/mxnet_p36/lib/python3.6/site-packages (from machinevision-toolbox-python) (1.4.1)\n",
      "Requirement already satisfied: matplotlib in /home/ec2-user/anaconda3/envs/mxnet_p36/lib/python3.6/site-packages (from machinevision-toolbox-python) (3.1.3)\n",
      "Requirement already satisfied: spatialmath-python in /home/ec2-user/anaconda3/envs/mxnet_p36/lib/python3.6/site-packages (from machinevision-toolbox-python) (0.8.8)\n",
      "Requirement already satisfied: colored in /home/ec2-user/anaconda3/envs/mxnet_p36/lib/python3.6/site-packages (from ansitable->machinevision-toolbox-python) (1.4.2)\n",
      "Requirement already satisfied: numpy in /home/ec2-user/anaconda3/envs/mxnet_p36/lib/python3.6/site-packages (from machinevision-toolbox-python) (1.19.4)\n",
      "Requirement already satisfied: kiwisolver>=1.0.1 in /home/ec2-user/anaconda3/envs/mxnet_p36/lib/python3.6/site-packages (from matplotlib->machinevision-toolbox-python) (1.1.0)\n",
      "Requirement already satisfied: python-dateutil>=2.1 in /home/ec2-user/anaconda3/envs/mxnet_p36/lib/python3.6/site-packages (from matplotlib->machinevision-toolbox-python) (2.8.1)\n",
      "Requirement already satisfied: pyparsing!=2.0.4,!=2.1.2,!=2.1.6,>=2.0.1 in /home/ec2-user/anaconda3/envs/mxnet_p36/lib/python3.6/site-packages (from matplotlib->machinevision-toolbox-python) (2.4.7)\n",
      "Requirement already satisfied: cycler>=0.10 in /home/ec2-user/anaconda3/envs/mxnet_p36/lib/python3.6/site-packages (from matplotlib->machinevision-toolbox-python) (0.10.0)\n",
      "Requirement already satisfied: six in /home/ec2-user/anaconda3/envs/mxnet_p36/lib/python3.6/site-packages (from cycler>=0.10->matplotlib->machinevision-toolbox-python) (1.15.0)\n",
      "Requirement already satisfied: setuptools in /home/ec2-user/anaconda3/envs/mxnet_p36/lib/python3.6/site-packages (from kiwisolver>=1.0.1->matplotlib->machinevision-toolbox-python) (45.2.0.post20200210)\n",
      "Requirement already satisfied: numpy in /home/ec2-user/anaconda3/envs/mxnet_p36/lib/python3.6/site-packages (from machinevision-toolbox-python) (1.19.4)\n",
      "Requirement already satisfied: six in /home/ec2-user/anaconda3/envs/mxnet_p36/lib/python3.6/site-packages (from cycler>=0.10->matplotlib->machinevision-toolbox-python) (1.15.0)\n",
      "Requirement already satisfied: numpy in /home/ec2-user/anaconda3/envs/mxnet_p36/lib/python3.6/site-packages (from machinevision-toolbox-python) (1.19.4)\n",
      "Requirement already satisfied: ansitable in /home/ec2-user/anaconda3/envs/mxnet_p36/lib/python3.6/site-packages (from machinevision-toolbox-python) (0.9.5)\n",
      "Requirement already satisfied: numpy in /home/ec2-user/anaconda3/envs/mxnet_p36/lib/python3.6/site-packages (from machinevision-toolbox-python) (1.19.4)\n",
      "Requirement already satisfied: scipy in /home/ec2-user/anaconda3/envs/mxnet_p36/lib/python3.6/site-packages (from machinevision-toolbox-python) (1.4.1)\n",
      "Requirement already satisfied: matplotlib in /home/ec2-user/anaconda3/envs/mxnet_p36/lib/python3.6/site-packages (from machinevision-toolbox-python) (3.1.3)\n",
      "Requirement already satisfied: colored in /home/ec2-user/anaconda3/envs/mxnet_p36/lib/python3.6/site-packages (from ansitable->machinevision-toolbox-python) (1.4.2)\n",
      "\u001b[33mWARNING: You are using pip version 20.3; however, version 21.0.1 is available.\n",
      "You should consider upgrading via the '/home/ec2-user/anaconda3/envs/mxnet_p36/bin/python -m pip install --upgrade pip' command.\u001b[0m\n"
     ]
    }
   ],
   "source": [
    "%matplotlib notebook\n",
    "\n",
    "import sys\n",
    "!{sys.executable} -m pip install machinevision-toolbox-python spatialmath==0.8.9\n",
    "\n",
    "import numpy as np\n",
    "import math\n",
    "from spatialmath import SE3\n",
    "from spatialmath.base import e2h, h2e\n",
    "import machinevisiontoolbox as mvtb"
   ]
  },
  {
   "cell_type": "markdown",
   "metadata": {},
   "source": [
    "# From first principles\n",
    "\n",
    "Let's define some parameters of our camera"
   ]
  },
  {
   "cell_type": "code",
   "execution_count": 2,
   "metadata": {},
   "outputs": [],
   "source": [
    "f = 8*1e-3     # focal length in metres\n",
    "rho = 10*1e-6  # pixel side length in metres\n",
    "u0 = 500       # principal point, horizontal coordinate\n",
    "v0 = 500       # principal point, vertical coordinate"
   ]
  },
  {
   "cell_type": "markdown",
   "metadata": {},
   "source": [
    "Next we define some matrices.  \n",
    "\n",
    "The first is a 3x3 _intrinsic_ matrix that contains information about the camera itself:\n",
    "  - focal length of the lens\n",
    "  - pixel size\n",
    "  - the position of the principal point in units of pixels,this is where the _principal ray_ pierces the image plane."
   ]
  },
  {
   "cell_type": "code",
   "execution_count": 3,
   "metadata": {},
   "outputs": [],
   "source": [
    "K = np.array([  [f/rho, 0, u0], \n",
    "                [0, f/rho, v0], \n",
    "                [0, 0, 1]])"
   ]
  },
  {
   "cell_type": "markdown",
   "metadata": {},
   "source": [
    "The next is a 3x4 matrix that performs the projection, reduces the 3D world point to a 2D image plane point"
   ]
  },
  {
   "cell_type": "code",
   "execution_count": 4,
   "metadata": {},
   "outputs": [],
   "source": [
    "P0 = np.array([ [1, 0, 0, 0],\n",
    "                [0, 1, 0, 0],\n",
    "                [0, 0, 1, 0]])"
   ]
  },
  {
   "cell_type": "markdown",
   "metadata": {},
   "source": [
    "Then finally a 4x4 _extrinsic_ matrix_ which says how the camera is positioned and oriented in space. An identity matrix has our camera at the world frame origin and looking along the world z-axis."
   ]
  },
  {
   "cell_type": "code",
   "execution_count": 5,
   "metadata": {},
   "outputs": [],
   "source": [
    "X = np.identity(4)"
   ]
  },
  {
   "cell_type": "markdown",
   "metadata": {},
   "source": [
    "We multiply these three matrices together to form the camera matrix"
   ]
  },
  {
   "cell_type": "code",
   "execution_count": 6,
   "metadata": {},
   "outputs": [],
   "source": [
    "C = K @ P0 @ X"
   ]
  },
  {
   "cell_type": "markdown",
   "metadata": {},
   "source": [
    "The resulting camera matrix is a 3x4 matrix"
   ]
  },
  {
   "cell_type": "code",
   "execution_count": 7,
   "metadata": {},
   "outputs": [
    {
     "data": {
      "text/plain": [
       "(3, 4)"
      ]
     },
     "execution_count": 7,
     "metadata": {},
     "output_type": "execute_result"
    }
   ],
   "source": [
    "C.shape"
   ]
  },
  {
   "cell_type": "markdown",
   "metadata": {},
   "source": [
    "Next we define a point in terms of its 3D coordinates (in units of metres), as a column vector"
   ]
  },
  {
   "cell_type": "code",
   "execution_count": 8,
   "metadata": {},
   "outputs": [],
   "source": [
    "P = np.array([1, -2, 5])"
   ]
  },
  {
   "cell_type": "markdown",
   "metadata": {},
   "source": [
    "To perform the projection we need to convert our 3D coordinate to homogeneous form, which is done by the helper function `e2h`"
   ]
  },
  {
   "cell_type": "code",
   "execution_count": 9,
   "metadata": {},
   "outputs": [
    {
     "data": {
      "text/plain": [
       "array([ 1., -2.,  5.,  1.])"
      ]
     },
     "execution_count": 9,
     "metadata": {},
     "output_type": "execute_result"
    }
   ],
   "source": [
    "e2h(P)"
   ]
  },
  {
   "cell_type": "markdown",
   "metadata": {},
   "source": [
    "Now we can premultiply this by the camera matrix to get the image plane coordinates in homoogeneous form"
   ]
  },
  {
   "cell_type": "code",
   "execution_count": 10,
   "metadata": {},
   "outputs": [
    {
     "data": {
      "text/plain": [
       "array([3300.,  900.,    5.])"
      ]
     },
     "execution_count": 10,
     "metadata": {},
     "output_type": "execute_result"
    }
   ],
   "source": [
    "C @ e2h(P)"
   ]
  },
  {
   "cell_type": "markdown",
   "metadata": {},
   "source": [
    "and we use the helper function `h2e` to convert that back to Euclidean coordinates - the 2D image plane coordinates in units of pixels"
   ]
  },
  {
   "cell_type": "code",
   "execution_count": 11,
   "metadata": {},
   "outputs": [
    {
     "data": {
      "text/plain": [
       "array([660., 180.])"
      ]
     },
     "execution_count": 11,
     "metadata": {},
     "output_type": "execute_result"
    }
   ],
   "source": [
    "h2e( C @ e2h(P) )"
   ]
  },
  {
   "cell_type": "markdown",
   "metadata": {},
   "source": [
    "If we move the point 0.5m in the x-axis direction we see that the u-coordinate in the image plane increases, as we would expect"
   ]
  },
  {
   "cell_type": "code",
   "execution_count": 13,
   "metadata": {},
   "outputs": [
    {
     "data": {
      "text/plain": [
       "array([1060., 1140.])"
      ]
     },
     "execution_count": 13,
     "metadata": {},
     "output_type": "execute_result"
    }
   ],
   "source": [
    "P1 = np.array([3.5, 4, 5])\n",
    "h2e( C @ e2h(P1) )"
   ]
  },
  {
   "cell_type": "markdown",
   "metadata": {},
   "source": [
    "Now we will move the camera 0.5m in the x-axis direction. We do this by setting the top right element of the _extrinsic_ matrix so as to represent a translation of 0.5m.\n",
    "\n",
    "Then we recompute the _camera_ matrix and project our original point onto the image plane of the moved camera.  We see that the u-coordinate has decreased as we would expect - when we move our head to the right the world appears to move to the left."
   ]
  },
  {
   "cell_type": "code",
   "execution_count": 14,
   "metadata": {},
   "outputs": [
    {
     "data": {
      "text/plain": [
       "array([580., 180.])"
      ]
     },
     "execution_count": 14,
     "metadata": {},
     "output_type": "execute_result"
    }
   ],
   "source": [
    "X[0,0] = 0.5\n",
    "C = K @ P0 @ X\n",
    "h2e( C @ e2h(P) )"
   ]
  },
  {
   "cell_type": "markdown",
   "metadata": {},
   "source": [
    "# Using the Toolbox CentralCamera class\n",
    "\n"
   ]
  },
  {
   "cell_type": "code",
   "execution_count": 15,
   "metadata": {},
   "outputs": [
    {
     "name": "stdout",
     "output_type": "stream",
     "text": [
      "           Name: MVTB camera [CentralCamera]\n",
      "     pixel size: 9.999999999999999e-06 x 9.999999999999999e-06\n",
      "     image size: [1000.] x [1000.]\n",
      "           pose: t = 0, 0, 0; rpy/zyx = 0°, 0°, 0°\n",
      "   principal pt: (500.0, 500.0)\n",
      "   focal length: (0.008, 0.008)\n",
      "\n"
     ]
    }
   ],
   "source": [
    "camera = mvtb.CentralCamera(f=f, rho=rho, pp=(u0, v0), imagesize=1000)\n",
    "print(camera)"
   ]
  },
  {
   "cell_type": "markdown",
   "metadata": {},
   "source": [
    "We can very conveniently project points to the image plane"
   ]
  },
  {
   "cell_type": "code",
   "execution_count": null,
   "metadata": {},
   "outputs": [],
   "source": [
    "camera.project(P)"
   ]
  },
  {
   "cell_type": "code",
   "execution_count": null,
   "metadata": {},
   "outputs": [],
   "source": [
    "# appears to be bug in MVTB toolbox cannot pass in a (3,) or (3,1) array for camera.project\n",
    "# so we will simply create a copy of the point to make it a (3,2)\n",
    "P_tmp = np.repeat(P.reshape((3,1)), 2, axis=1) \n",
    "camera.project(P_tmp)"
   ]
  },
  {
   "cell_type": "markdown",
   "metadata": {},
   "source": [
    "and we can plot it on a virtual image plane conveniently by"
   ]
  },
  {
   "cell_type": "code",
   "execution_count": 17,
   "metadata": {},
   "outputs": [
    {
     "name": "stdout",
     "output_type": "stream",
     "text": [
      "creating new figure and axes for camera\n"
     ]
    },
    {
     "data": {
      "application/javascript": [
       "/* Put everything inside the global mpl namespace */\n",
       "window.mpl = {};\n",
       "\n",
       "\n",
       "mpl.get_websocket_type = function() {\n",
       "    if (typeof(WebSocket) !== 'undefined') {\n",
       "        return WebSocket;\n",
       "    } else if (typeof(MozWebSocket) !== 'undefined') {\n",
       "        return MozWebSocket;\n",
       "    } else {\n",
       "        alert('Your browser does not have WebSocket support. ' +\n",
       "              'Please try Chrome, Safari or Firefox ≥ 6. ' +\n",
       "              'Firefox 4 and 5 are also supported but you ' +\n",
       "              'have to enable WebSockets in about:config.');\n",
       "    };\n",
       "}\n",
       "\n",
       "mpl.figure = function(figure_id, websocket, ondownload, parent_element) {\n",
       "    this.id = figure_id;\n",
       "\n",
       "    this.ws = websocket;\n",
       "\n",
       "    this.supports_binary = (this.ws.binaryType != undefined);\n",
       "\n",
       "    if (!this.supports_binary) {\n",
       "        var warnings = document.getElementById(\"mpl-warnings\");\n",
       "        if (warnings) {\n",
       "            warnings.style.display = 'block';\n",
       "            warnings.textContent = (\n",
       "                \"This browser does not support binary websocket messages. \" +\n",
       "                    \"Performance may be slow.\");\n",
       "        }\n",
       "    }\n",
       "\n",
       "    this.imageObj = new Image();\n",
       "\n",
       "    this.context = undefined;\n",
       "    this.message = undefined;\n",
       "    this.canvas = undefined;\n",
       "    this.rubberband_canvas = undefined;\n",
       "    this.rubberband_context = undefined;\n",
       "    this.format_dropdown = undefined;\n",
       "\n",
       "    this.image_mode = 'full';\n",
       "\n",
       "    this.root = $('<div/>');\n",
       "    this._root_extra_style(this.root)\n",
       "    this.root.attr('style', 'display: inline-block');\n",
       "\n",
       "    $(parent_element).append(this.root);\n",
       "\n",
       "    this._init_header(this);\n",
       "    this._init_canvas(this);\n",
       "    this._init_toolbar(this);\n",
       "\n",
       "    var fig = this;\n",
       "\n",
       "    this.waiting = false;\n",
       "\n",
       "    this.ws.onopen =  function () {\n",
       "            fig.send_message(\"supports_binary\", {value: fig.supports_binary});\n",
       "            fig.send_message(\"send_image_mode\", {});\n",
       "            if (mpl.ratio != 1) {\n",
       "                fig.send_message(\"set_dpi_ratio\", {'dpi_ratio': mpl.ratio});\n",
       "            }\n",
       "            fig.send_message(\"refresh\", {});\n",
       "        }\n",
       "\n",
       "    this.imageObj.onload = function() {\n",
       "            if (fig.image_mode == 'full') {\n",
       "                // Full images could contain transparency (where diff images\n",
       "                // almost always do), so we need to clear the canvas so that\n",
       "                // there is no ghosting.\n",
       "                fig.context.clearRect(0, 0, fig.canvas.width, fig.canvas.height);\n",
       "            }\n",
       "            fig.context.drawImage(fig.imageObj, 0, 0);\n",
       "        };\n",
       "\n",
       "    this.imageObj.onunload = function() {\n",
       "        fig.ws.close();\n",
       "    }\n",
       "\n",
       "    this.ws.onmessage = this._make_on_message_function(this);\n",
       "\n",
       "    this.ondownload = ondownload;\n",
       "}\n",
       "\n",
       "mpl.figure.prototype._init_header = function() {\n",
       "    var titlebar = $(\n",
       "        '<div class=\"ui-dialog-titlebar ui-widget-header ui-corner-all ' +\n",
       "        'ui-helper-clearfix\"/>');\n",
       "    var titletext = $(\n",
       "        '<div class=\"ui-dialog-title\" style=\"width: 100%; ' +\n",
       "        'text-align: center; padding: 3px;\"/>');\n",
       "    titlebar.append(titletext)\n",
       "    this.root.append(titlebar);\n",
       "    this.header = titletext[0];\n",
       "}\n",
       "\n",
       "\n",
       "\n",
       "mpl.figure.prototype._canvas_extra_style = function(canvas_div) {\n",
       "\n",
       "}\n",
       "\n",
       "\n",
       "mpl.figure.prototype._root_extra_style = function(canvas_div) {\n",
       "\n",
       "}\n",
       "\n",
       "mpl.figure.prototype._init_canvas = function() {\n",
       "    var fig = this;\n",
       "\n",
       "    var canvas_div = $('<div/>');\n",
       "\n",
       "    canvas_div.attr('style', 'position: relative; clear: both; outline: 0');\n",
       "\n",
       "    function canvas_keyboard_event(event) {\n",
       "        return fig.key_event(event, event['data']);\n",
       "    }\n",
       "\n",
       "    canvas_div.keydown('key_press', canvas_keyboard_event);\n",
       "    canvas_div.keyup('key_release', canvas_keyboard_event);\n",
       "    this.canvas_div = canvas_div\n",
       "    this._canvas_extra_style(canvas_div)\n",
       "    this.root.append(canvas_div);\n",
       "\n",
       "    var canvas = $('<canvas/>');\n",
       "    canvas.addClass('mpl-canvas');\n",
       "    canvas.attr('style', \"left: 0; top: 0; z-index: 0; outline: 0\")\n",
       "\n",
       "    this.canvas = canvas[0];\n",
       "    this.context = canvas[0].getContext(\"2d\");\n",
       "\n",
       "    var backingStore = this.context.backingStorePixelRatio ||\n",
       "\tthis.context.webkitBackingStorePixelRatio ||\n",
       "\tthis.context.mozBackingStorePixelRatio ||\n",
       "\tthis.context.msBackingStorePixelRatio ||\n",
       "\tthis.context.oBackingStorePixelRatio ||\n",
       "\tthis.context.backingStorePixelRatio || 1;\n",
       "\n",
       "    mpl.ratio = (window.devicePixelRatio || 1) / backingStore;\n",
       "\n",
       "    var rubberband = $('<canvas/>');\n",
       "    rubberband.attr('style', \"position: absolute; left: 0; top: 0; z-index: 1;\")\n",
       "\n",
       "    var pass_mouse_events = true;\n",
       "\n",
       "    canvas_div.resizable({\n",
       "        start: function(event, ui) {\n",
       "            pass_mouse_events = false;\n",
       "        },\n",
       "        resize: function(event, ui) {\n",
       "            fig.request_resize(ui.size.width, ui.size.height);\n",
       "        },\n",
       "        stop: function(event, ui) {\n",
       "            pass_mouse_events = true;\n",
       "            fig.request_resize(ui.size.width, ui.size.height);\n",
       "        },\n",
       "    });\n",
       "\n",
       "    function mouse_event_fn(event) {\n",
       "        if (pass_mouse_events)\n",
       "            return fig.mouse_event(event, event['data']);\n",
       "    }\n",
       "\n",
       "    rubberband.mousedown('button_press', mouse_event_fn);\n",
       "    rubberband.mouseup('button_release', mouse_event_fn);\n",
       "    // Throttle sequential mouse events to 1 every 20ms.\n",
       "    rubberband.mousemove('motion_notify', mouse_event_fn);\n",
       "\n",
       "    rubberband.mouseenter('figure_enter', mouse_event_fn);\n",
       "    rubberband.mouseleave('figure_leave', mouse_event_fn);\n",
       "\n",
       "    canvas_div.on(\"wheel\", function (event) {\n",
       "        event = event.originalEvent;\n",
       "        event['data'] = 'scroll'\n",
       "        if (event.deltaY < 0) {\n",
       "            event.step = 1;\n",
       "        } else {\n",
       "            event.step = -1;\n",
       "        }\n",
       "        mouse_event_fn(event);\n",
       "    });\n",
       "\n",
       "    canvas_div.append(canvas);\n",
       "    canvas_div.append(rubberband);\n",
       "\n",
       "    this.rubberband = rubberband;\n",
       "    this.rubberband_canvas = rubberband[0];\n",
       "    this.rubberband_context = rubberband[0].getContext(\"2d\");\n",
       "    this.rubberband_context.strokeStyle = \"#000000\";\n",
       "\n",
       "    this._resize_canvas = function(width, height) {\n",
       "        // Keep the size of the canvas, canvas container, and rubber band\n",
       "        // canvas in synch.\n",
       "        canvas_div.css('width', width)\n",
       "        canvas_div.css('height', height)\n",
       "\n",
       "        canvas.attr('width', width * mpl.ratio);\n",
       "        canvas.attr('height', height * mpl.ratio);\n",
       "        canvas.attr('style', 'width: ' + width + 'px; height: ' + height + 'px;');\n",
       "\n",
       "        rubberband.attr('width', width);\n",
       "        rubberband.attr('height', height);\n",
       "    }\n",
       "\n",
       "    // Set the figure to an initial 600x600px, this will subsequently be updated\n",
       "    // upon first draw.\n",
       "    this._resize_canvas(600, 600);\n",
       "\n",
       "    // Disable right mouse context menu.\n",
       "    $(this.rubberband_canvas).bind(\"contextmenu\",function(e){\n",
       "        return false;\n",
       "    });\n",
       "\n",
       "    function set_focus () {\n",
       "        canvas.focus();\n",
       "        canvas_div.focus();\n",
       "    }\n",
       "\n",
       "    window.setTimeout(set_focus, 100);\n",
       "}\n",
       "\n",
       "mpl.figure.prototype._init_toolbar = function() {\n",
       "    var fig = this;\n",
       "\n",
       "    var nav_element = $('<div/>');\n",
       "    nav_element.attr('style', 'width: 100%');\n",
       "    this.root.append(nav_element);\n",
       "\n",
       "    // Define a callback function for later on.\n",
       "    function toolbar_event(event) {\n",
       "        return fig.toolbar_button_onclick(event['data']);\n",
       "    }\n",
       "    function toolbar_mouse_event(event) {\n",
       "        return fig.toolbar_button_onmouseover(event['data']);\n",
       "    }\n",
       "\n",
       "    for(var toolbar_ind in mpl.toolbar_items) {\n",
       "        var name = mpl.toolbar_items[toolbar_ind][0];\n",
       "        var tooltip = mpl.toolbar_items[toolbar_ind][1];\n",
       "        var image = mpl.toolbar_items[toolbar_ind][2];\n",
       "        var method_name = mpl.toolbar_items[toolbar_ind][3];\n",
       "\n",
       "        if (!name) {\n",
       "            // put a spacer in here.\n",
       "            continue;\n",
       "        }\n",
       "        var button = $('<button/>');\n",
       "        button.addClass('ui-button ui-widget ui-state-default ui-corner-all ' +\n",
       "                        'ui-button-icon-only');\n",
       "        button.attr('role', 'button');\n",
       "        button.attr('aria-disabled', 'false');\n",
       "        button.click(method_name, toolbar_event);\n",
       "        button.mouseover(tooltip, toolbar_mouse_event);\n",
       "\n",
       "        var icon_img = $('<span/>');\n",
       "        icon_img.addClass('ui-button-icon-primary ui-icon');\n",
       "        icon_img.addClass(image);\n",
       "        icon_img.addClass('ui-corner-all');\n",
       "\n",
       "        var tooltip_span = $('<span/>');\n",
       "        tooltip_span.addClass('ui-button-text');\n",
       "        tooltip_span.html(tooltip);\n",
       "\n",
       "        button.append(icon_img);\n",
       "        button.append(tooltip_span);\n",
       "\n",
       "        nav_element.append(button);\n",
       "    }\n",
       "\n",
       "    var fmt_picker_span = $('<span/>');\n",
       "\n",
       "    var fmt_picker = $('<select/>');\n",
       "    fmt_picker.addClass('mpl-toolbar-option ui-widget ui-widget-content');\n",
       "    fmt_picker_span.append(fmt_picker);\n",
       "    nav_element.append(fmt_picker_span);\n",
       "    this.format_dropdown = fmt_picker[0];\n",
       "\n",
       "    for (var ind in mpl.extensions) {\n",
       "        var fmt = mpl.extensions[ind];\n",
       "        var option = $(\n",
       "            '<option/>', {selected: fmt === mpl.default_extension}).html(fmt);\n",
       "        fmt_picker.append(option);\n",
       "    }\n",
       "\n",
       "    // Add hover states to the ui-buttons\n",
       "    $( \".ui-button\" ).hover(\n",
       "        function() { $(this).addClass(\"ui-state-hover\");},\n",
       "        function() { $(this).removeClass(\"ui-state-hover\");}\n",
       "    );\n",
       "\n",
       "    var status_bar = $('<span class=\"mpl-message\"/>');\n",
       "    nav_element.append(status_bar);\n",
       "    this.message = status_bar[0];\n",
       "}\n",
       "\n",
       "mpl.figure.prototype.request_resize = function(x_pixels, y_pixels) {\n",
       "    // Request matplotlib to resize the figure. Matplotlib will then trigger a resize in the client,\n",
       "    // which will in turn request a refresh of the image.\n",
       "    this.send_message('resize', {'width': x_pixels, 'height': y_pixels});\n",
       "}\n",
       "\n",
       "mpl.figure.prototype.send_message = function(type, properties) {\n",
       "    properties['type'] = type;\n",
       "    properties['figure_id'] = this.id;\n",
       "    this.ws.send(JSON.stringify(properties));\n",
       "}\n",
       "\n",
       "mpl.figure.prototype.send_draw_message = function() {\n",
       "    if (!this.waiting) {\n",
       "        this.waiting = true;\n",
       "        this.ws.send(JSON.stringify({type: \"draw\", figure_id: this.id}));\n",
       "    }\n",
       "}\n",
       "\n",
       "\n",
       "mpl.figure.prototype.handle_save = function(fig, msg) {\n",
       "    var format_dropdown = fig.format_dropdown;\n",
       "    var format = format_dropdown.options[format_dropdown.selectedIndex].value;\n",
       "    fig.ondownload(fig, format);\n",
       "}\n",
       "\n",
       "\n",
       "mpl.figure.prototype.handle_resize = function(fig, msg) {\n",
       "    var size = msg['size'];\n",
       "    if (size[0] != fig.canvas.width || size[1] != fig.canvas.height) {\n",
       "        fig._resize_canvas(size[0], size[1]);\n",
       "        fig.send_message(\"refresh\", {});\n",
       "    };\n",
       "}\n",
       "\n",
       "mpl.figure.prototype.handle_rubberband = function(fig, msg) {\n",
       "    var x0 = msg['x0'] / mpl.ratio;\n",
       "    var y0 = (fig.canvas.height - msg['y0']) / mpl.ratio;\n",
       "    var x1 = msg['x1'] / mpl.ratio;\n",
       "    var y1 = (fig.canvas.height - msg['y1']) / mpl.ratio;\n",
       "    x0 = Math.floor(x0) + 0.5;\n",
       "    y0 = Math.floor(y0) + 0.5;\n",
       "    x1 = Math.floor(x1) + 0.5;\n",
       "    y1 = Math.floor(y1) + 0.5;\n",
       "    var min_x = Math.min(x0, x1);\n",
       "    var min_y = Math.min(y0, y1);\n",
       "    var width = Math.abs(x1 - x0);\n",
       "    var height = Math.abs(y1 - y0);\n",
       "\n",
       "    fig.rubberband_context.clearRect(\n",
       "        0, 0, fig.canvas.width / mpl.ratio, fig.canvas.height / mpl.ratio);\n",
       "\n",
       "    fig.rubberband_context.strokeRect(min_x, min_y, width, height);\n",
       "}\n",
       "\n",
       "mpl.figure.prototype.handle_figure_label = function(fig, msg) {\n",
       "    // Updates the figure title.\n",
       "    fig.header.textContent = msg['label'];\n",
       "}\n",
       "\n",
       "mpl.figure.prototype.handle_cursor = function(fig, msg) {\n",
       "    var cursor = msg['cursor'];\n",
       "    switch(cursor)\n",
       "    {\n",
       "    case 0:\n",
       "        cursor = 'pointer';\n",
       "        break;\n",
       "    case 1:\n",
       "        cursor = 'default';\n",
       "        break;\n",
       "    case 2:\n",
       "        cursor = 'crosshair';\n",
       "        break;\n",
       "    case 3:\n",
       "        cursor = 'move';\n",
       "        break;\n",
       "    }\n",
       "    fig.rubberband_canvas.style.cursor = cursor;\n",
       "}\n",
       "\n",
       "mpl.figure.prototype.handle_message = function(fig, msg) {\n",
       "    fig.message.textContent = msg['message'];\n",
       "}\n",
       "\n",
       "mpl.figure.prototype.handle_draw = function(fig, msg) {\n",
       "    // Request the server to send over a new figure.\n",
       "    fig.send_draw_message();\n",
       "}\n",
       "\n",
       "mpl.figure.prototype.handle_image_mode = function(fig, msg) {\n",
       "    fig.image_mode = msg['mode'];\n",
       "}\n",
       "\n",
       "mpl.figure.prototype.updated_canvas_event = function() {\n",
       "    // Called whenever the canvas gets updated.\n",
       "    this.send_message(\"ack\", {});\n",
       "}\n",
       "\n",
       "// A function to construct a web socket function for onmessage handling.\n",
       "// Called in the figure constructor.\n",
       "mpl.figure.prototype._make_on_message_function = function(fig) {\n",
       "    return function socket_on_message(evt) {\n",
       "        if (evt.data instanceof Blob) {\n",
       "            /* FIXME: We get \"Resource interpreted as Image but\n",
       "             * transferred with MIME type text/plain:\" errors on\n",
       "             * Chrome.  But how to set the MIME type?  It doesn't seem\n",
       "             * to be part of the websocket stream */\n",
       "            evt.data.type = \"image/png\";\n",
       "\n",
       "            /* Free the memory for the previous frames */\n",
       "            if (fig.imageObj.src) {\n",
       "                (window.URL || window.webkitURL).revokeObjectURL(\n",
       "                    fig.imageObj.src);\n",
       "            }\n",
       "\n",
       "            fig.imageObj.src = (window.URL || window.webkitURL).createObjectURL(\n",
       "                evt.data);\n",
       "            fig.updated_canvas_event();\n",
       "            fig.waiting = false;\n",
       "            return;\n",
       "        }\n",
       "        else if (typeof evt.data === 'string' && evt.data.slice(0, 21) == \"data:image/png;base64\") {\n",
       "            fig.imageObj.src = evt.data;\n",
       "            fig.updated_canvas_event();\n",
       "            fig.waiting = false;\n",
       "            return;\n",
       "        }\n",
       "\n",
       "        var msg = JSON.parse(evt.data);\n",
       "        var msg_type = msg['type'];\n",
       "\n",
       "        // Call the  \"handle_{type}\" callback, which takes\n",
       "        // the figure and JSON message as its only arguments.\n",
       "        try {\n",
       "            var callback = fig[\"handle_\" + msg_type];\n",
       "        } catch (e) {\n",
       "            console.log(\"No handler for the '\" + msg_type + \"' message type: \", msg);\n",
       "            return;\n",
       "        }\n",
       "\n",
       "        if (callback) {\n",
       "            try {\n",
       "                // console.log(\"Handling '\" + msg_type + \"' message: \", msg);\n",
       "                callback(fig, msg);\n",
       "            } catch (e) {\n",
       "                console.log(\"Exception inside the 'handler_\" + msg_type + \"' callback:\", e, e.stack, msg);\n",
       "            }\n",
       "        }\n",
       "    };\n",
       "}\n",
       "\n",
       "// from http://stackoverflow.com/questions/1114465/getting-mouse-location-in-canvas\n",
       "mpl.findpos = function(e) {\n",
       "    //this section is from http://www.quirksmode.org/js/events_properties.html\n",
       "    var targ;\n",
       "    if (!e)\n",
       "        e = window.event;\n",
       "    if (e.target)\n",
       "        targ = e.target;\n",
       "    else if (e.srcElement)\n",
       "        targ = e.srcElement;\n",
       "    if (targ.nodeType == 3) // defeat Safari bug\n",
       "        targ = targ.parentNode;\n",
       "\n",
       "    // jQuery normalizes the pageX and pageY\n",
       "    // pageX,Y are the mouse positions relative to the document\n",
       "    // offset() returns the position of the element relative to the document\n",
       "    var x = e.pageX - $(targ).offset().left;\n",
       "    var y = e.pageY - $(targ).offset().top;\n",
       "\n",
       "    return {\"x\": x, \"y\": y};\n",
       "};\n",
       "\n",
       "/*\n",
       " * return a copy of an object with only non-object keys\n",
       " * we need this to avoid circular references\n",
       " * http://stackoverflow.com/a/24161582/3208463\n",
       " */\n",
       "function simpleKeys (original) {\n",
       "  return Object.keys(original).reduce(function (obj, key) {\n",
       "    if (typeof original[key] !== 'object')\n",
       "        obj[key] = original[key]\n",
       "    return obj;\n",
       "  }, {});\n",
       "}\n",
       "\n",
       "mpl.figure.prototype.mouse_event = function(event, name) {\n",
       "    var canvas_pos = mpl.findpos(event)\n",
       "\n",
       "    if (name === 'button_press')\n",
       "    {\n",
       "        this.canvas.focus();\n",
       "        this.canvas_div.focus();\n",
       "    }\n",
       "\n",
       "    var x = canvas_pos.x * mpl.ratio;\n",
       "    var y = canvas_pos.y * mpl.ratio;\n",
       "\n",
       "    this.send_message(name, {x: x, y: y, button: event.button,\n",
       "                             step: event.step,\n",
       "                             guiEvent: simpleKeys(event)});\n",
       "\n",
       "    /* This prevents the web browser from automatically changing to\n",
       "     * the text insertion cursor when the button is pressed.  We want\n",
       "     * to control all of the cursor setting manually through the\n",
       "     * 'cursor' event from matplotlib */\n",
       "    event.preventDefault();\n",
       "    return false;\n",
       "}\n",
       "\n",
       "mpl.figure.prototype._key_event_extra = function(event, name) {\n",
       "    // Handle any extra behaviour associated with a key event\n",
       "}\n",
       "\n",
       "mpl.figure.prototype.key_event = function(event, name) {\n",
       "\n",
       "    // Prevent repeat events\n",
       "    if (name == 'key_press')\n",
       "    {\n",
       "        if (event.which === this._key)\n",
       "            return;\n",
       "        else\n",
       "            this._key = event.which;\n",
       "    }\n",
       "    if (name == 'key_release')\n",
       "        this._key = null;\n",
       "\n",
       "    var value = '';\n",
       "    if (event.ctrlKey && event.which != 17)\n",
       "        value += \"ctrl+\";\n",
       "    if (event.altKey && event.which != 18)\n",
       "        value += \"alt+\";\n",
       "    if (event.shiftKey && event.which != 16)\n",
       "        value += \"shift+\";\n",
       "\n",
       "    value += 'k';\n",
       "    value += event.which.toString();\n",
       "\n",
       "    this._key_event_extra(event, name);\n",
       "\n",
       "    this.send_message(name, {key: value,\n",
       "                             guiEvent: simpleKeys(event)});\n",
       "    return false;\n",
       "}\n",
       "\n",
       "mpl.figure.prototype.toolbar_button_onclick = function(name) {\n",
       "    if (name == 'download') {\n",
       "        this.handle_save(this, null);\n",
       "    } else {\n",
       "        this.send_message(\"toolbar_button\", {name: name});\n",
       "    }\n",
       "};\n",
       "\n",
       "mpl.figure.prototype.toolbar_button_onmouseover = function(tooltip) {\n",
       "    this.message.textContent = tooltip;\n",
       "};\n",
       "mpl.toolbar_items = [[\"Home\", \"Reset original view\", \"fa fa-home icon-home\", \"home\"], [\"Back\", \"Back to previous view\", \"fa fa-arrow-left icon-arrow-left\", \"back\"], [\"Forward\", \"Forward to next view\", \"fa fa-arrow-right icon-arrow-right\", \"forward\"], [\"\", \"\", \"\", \"\"], [\"Pan\", \"Pan axes with left mouse, zoom with right\", \"fa fa-arrows icon-move\", \"pan\"], [\"Zoom\", \"Zoom to rectangle\", \"fa fa-square-o icon-check-empty\", \"zoom\"], [\"\", \"\", \"\", \"\"], [\"Download\", \"Download plot\", \"fa fa-floppy-o icon-save\", \"download\"]];\n",
       "\n",
       "mpl.extensions = [\"eps\", \"jpeg\", \"pdf\", \"png\", \"ps\", \"raw\", \"svg\", \"tif\"];\n",
       "\n",
       "mpl.default_extension = \"png\";var comm_websocket_adapter = function(comm) {\n",
       "    // Create a \"websocket\"-like object which calls the given IPython comm\n",
       "    // object with the appropriate methods. Currently this is a non binary\n",
       "    // socket, so there is still some room for performance tuning.\n",
       "    var ws = {};\n",
       "\n",
       "    ws.close = function() {\n",
       "        comm.close()\n",
       "    };\n",
       "    ws.send = function(m) {\n",
       "        //console.log('sending', m);\n",
       "        comm.send(m);\n",
       "    };\n",
       "    // Register the callback with on_msg.\n",
       "    comm.on_msg(function(msg) {\n",
       "        //console.log('receiving', msg['content']['data'], msg);\n",
       "        // Pass the mpl event to the overridden (by mpl) onmessage function.\n",
       "        ws.onmessage(msg['content']['data'])\n",
       "    });\n",
       "    return ws;\n",
       "}\n",
       "\n",
       "mpl.mpl_figure_comm = function(comm, msg) {\n",
       "    // This is the function which gets called when the mpl process\n",
       "    // starts-up an IPython Comm through the \"matplotlib\" channel.\n",
       "\n",
       "    var id = msg.content.data.id;\n",
       "    // Get hold of the div created by the display call when the Comm\n",
       "    // socket was opened in Python.\n",
       "    var element = $(\"#\" + id);\n",
       "    var ws_proxy = comm_websocket_adapter(comm)\n",
       "\n",
       "    function ondownload(figure, format) {\n",
       "        window.open(figure.imageObj.src);\n",
       "    }\n",
       "\n",
       "    var fig = new mpl.figure(id, ws_proxy,\n",
       "                           ondownload,\n",
       "                           element.get(0));\n",
       "\n",
       "    // Call onopen now - mpl needs it, as it is assuming we've passed it a real\n",
       "    // web socket which is closed, not our websocket->open comm proxy.\n",
       "    ws_proxy.onopen();\n",
       "\n",
       "    fig.parent_element = element.get(0);\n",
       "    fig.cell_info = mpl.find_output_cell(\"<div id='\" + id + \"'></div>\");\n",
       "    if (!fig.cell_info) {\n",
       "        console.error(\"Failed to find cell for figure\", id, fig);\n",
       "        return;\n",
       "    }\n",
       "\n",
       "    var output_index = fig.cell_info[2]\n",
       "    var cell = fig.cell_info[0];\n",
       "\n",
       "};\n",
       "\n",
       "mpl.figure.prototype.handle_close = function(fig, msg) {\n",
       "    var width = fig.canvas.width/mpl.ratio\n",
       "    fig.root.unbind('remove')\n",
       "\n",
       "    // Update the output cell to use the data from the current canvas.\n",
       "    fig.push_to_output();\n",
       "    var dataURL = fig.canvas.toDataURL();\n",
       "    // Re-enable the keyboard manager in IPython - without this line, in FF,\n",
       "    // the notebook keyboard shortcuts fail.\n",
       "    IPython.keyboard_manager.enable()\n",
       "    $(fig.parent_element).html('<img src=\"' + dataURL + '\" width=\"' + width + '\">');\n",
       "    fig.close_ws(fig, msg);\n",
       "}\n",
       "\n",
       "mpl.figure.prototype.close_ws = function(fig, msg){\n",
       "    fig.send_message('closing', msg);\n",
       "    // fig.ws.close()\n",
       "}\n",
       "\n",
       "mpl.figure.prototype.push_to_output = function(remove_interactive) {\n",
       "    // Turn the data on the canvas into data in the output cell.\n",
       "    var width = this.canvas.width/mpl.ratio\n",
       "    var dataURL = this.canvas.toDataURL();\n",
       "    this.cell_info[1]['text/html'] = '<img src=\"' + dataURL + '\" width=\"' + width + '\">';\n",
       "}\n",
       "\n",
       "mpl.figure.prototype.updated_canvas_event = function() {\n",
       "    // Tell IPython that the notebook contents must change.\n",
       "    IPython.notebook.set_dirty(true);\n",
       "    this.send_message(\"ack\", {});\n",
       "    var fig = this;\n",
       "    // Wait a second, then push the new image to the DOM so\n",
       "    // that it is saved nicely (might be nice to debounce this).\n",
       "    setTimeout(function () { fig.push_to_output() }, 1000);\n",
       "}\n",
       "\n",
       "mpl.figure.prototype._init_toolbar = function() {\n",
       "    var fig = this;\n",
       "\n",
       "    var nav_element = $('<div/>');\n",
       "    nav_element.attr('style', 'width: 100%');\n",
       "    this.root.append(nav_element);\n",
       "\n",
       "    // Define a callback function for later on.\n",
       "    function toolbar_event(event) {\n",
       "        return fig.toolbar_button_onclick(event['data']);\n",
       "    }\n",
       "    function toolbar_mouse_event(event) {\n",
       "        return fig.toolbar_button_onmouseover(event['data']);\n",
       "    }\n",
       "\n",
       "    for(var toolbar_ind in mpl.toolbar_items){\n",
       "        var name = mpl.toolbar_items[toolbar_ind][0];\n",
       "        var tooltip = mpl.toolbar_items[toolbar_ind][1];\n",
       "        var image = mpl.toolbar_items[toolbar_ind][2];\n",
       "        var method_name = mpl.toolbar_items[toolbar_ind][3];\n",
       "\n",
       "        if (!name) { continue; };\n",
       "\n",
       "        var button = $('<button class=\"btn btn-default\" href=\"#\" title=\"' + name + '\"><i class=\"fa ' + image + ' fa-lg\"></i></button>');\n",
       "        button.click(method_name, toolbar_event);\n",
       "        button.mouseover(tooltip, toolbar_mouse_event);\n",
       "        nav_element.append(button);\n",
       "    }\n",
       "\n",
       "    // Add the status bar.\n",
       "    var status_bar = $('<span class=\"mpl-message\" style=\"text-align:right; float: right;\"/>');\n",
       "    nav_element.append(status_bar);\n",
       "    this.message = status_bar[0];\n",
       "\n",
       "    // Add the close button to the window.\n",
       "    var buttongrp = $('<div class=\"btn-group inline pull-right\"></div>');\n",
       "    var button = $('<button class=\"btn btn-mini btn-primary\" href=\"#\" title=\"Stop Interaction\"><i class=\"fa fa-power-off icon-remove icon-large\"></i></button>');\n",
       "    button.click(function (evt) { fig.handle_close(fig, {}); } );\n",
       "    button.mouseover('Stop Interaction', toolbar_mouse_event);\n",
       "    buttongrp.append(button);\n",
       "    var titlebar = this.root.find($('.ui-dialog-titlebar'));\n",
       "    titlebar.prepend(buttongrp);\n",
       "}\n",
       "\n",
       "mpl.figure.prototype._root_extra_style = function(el){\n",
       "    var fig = this\n",
       "    el.on(\"remove\", function(){\n",
       "\tfig.close_ws(fig, {});\n",
       "    });\n",
       "}\n",
       "\n",
       "mpl.figure.prototype._canvas_extra_style = function(el){\n",
       "    // this is important to make the div 'focusable\n",
       "    el.attr('tabindex', 0)\n",
       "    // reach out to IPython and tell the keyboard manager to turn it's self\n",
       "    // off when our div gets focus\n",
       "\n",
       "    // location in version 3\n",
       "    if (IPython.notebook.keyboard_manager) {\n",
       "        IPython.notebook.keyboard_manager.register_events(el);\n",
       "    }\n",
       "    else {\n",
       "        // location in version 2\n",
       "        IPython.keyboard_manager.register_events(el);\n",
       "    }\n",
       "\n",
       "}\n",
       "\n",
       "mpl.figure.prototype._key_event_extra = function(event, name) {\n",
       "    var manager = IPython.notebook.keyboard_manager;\n",
       "    if (!manager)\n",
       "        manager = IPython.keyboard_manager;\n",
       "\n",
       "    // Check for shift+enter\n",
       "    if (event.shiftKey && event.which == 13) {\n",
       "        this.canvas_div.blur();\n",
       "        // select the cell after this one\n",
       "        var index = IPython.notebook.find_cell_index(this.cell_info[0]);\n",
       "        IPython.notebook.select(index + 1);\n",
       "    }\n",
       "}\n",
       "\n",
       "mpl.figure.prototype.handle_save = function(fig, msg) {\n",
       "    fig.ondownload(fig, null);\n",
       "}\n",
       "\n",
       "\n",
       "mpl.find_output_cell = function(html_output) {\n",
       "    // Return the cell and output element which can be found *uniquely* in the notebook.\n",
       "    // Note - this is a bit hacky, but it is done because the \"notebook_saving.Notebook\"\n",
       "    // IPython event is triggered only after the cells have been serialised, which for\n",
       "    // our purposes (turning an active figure into a static one), is too late.\n",
       "    var cells = IPython.notebook.get_cells();\n",
       "    var ncells = cells.length;\n",
       "    for (var i=0; i<ncells; i++) {\n",
       "        var cell = cells[i];\n",
       "        if (cell.cell_type === 'code'){\n",
       "            for (var j=0; j<cell.output_area.outputs.length; j++) {\n",
       "                var data = cell.output_area.outputs[j];\n",
       "                if (data.data) {\n",
       "                    // IPython >= 3 moved mimebundle to data attribute of output\n",
       "                    data = data.data;\n",
       "                }\n",
       "                if (data['text/html'] == html_output) {\n",
       "                    return [cell, data, j];\n",
       "                }\n",
       "            }\n",
       "        }\n",
       "    }\n",
       "}\n",
       "\n",
       "// Register the function which deals with the matplotlib target/channel.\n",
       "// The kernel may be null if the page has been refreshed.\n",
       "if (IPython.notebook.kernel != null) {\n",
       "    IPython.notebook.kernel.comm_manager.register_target('matplotlib', mpl.mpl_figure_comm);\n",
       "}\n"
      ],
      "text/plain": [
       "<IPython.core.display.Javascript object>"
      ]
     },
     "metadata": {},
     "output_type": "display_data"
    },
    {
     "data": {
      "text/html": [
       "<img src=\"data:image/png;base64,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\" width=\"640\">"
      ],
      "text/plain": [
       "<IPython.core.display.HTML object>"
      ]
     },
     "metadata": {},
     "output_type": "display_data"
    }
   ],
   "source": [
    "camera.plot(P)"
   ]
  },
  {
   "cell_type": "markdown",
   "metadata": {},
   "source": [
    "We can project the same point, but this time with the camera moved 0.6m in the x-direction"
   ]
  },
  {
   "cell_type": "code",
   "execution_count": 18,
   "metadata": {},
   "outputs": [
    {
     "data": {
      "text/plain": [
       "array([[564., 564.],\n",
       "       [180., 180.]])"
      ]
     },
     "execution_count": 18,
     "metadata": {},
     "output_type": "execute_result"
    }
   ],
   "source": [
    "camera.project(P, pose=SE3(0.6, 0, 0))"
   ]
  },
  {
   "cell_type": "markdown",
   "metadata": {},
   "source": [
    "and we see that the u-coordinate has decreased.  If we look out along the camera's principal axis then moving the camera to the right causes the image plane point to move to the left.  Note that the vertical coordinate hasn't changed -- as expected.\n",
    "\n",
    "We can extract the intrinsic matrix"
   ]
  },
  {
   "cell_type": "code",
   "execution_count": 19,
   "metadata": {},
   "outputs": [
    {
     "data": {
      "text/plain": [
       "array([[800.,   0., 500.],\n",
       "       [  0., 800., 500.],\n",
       "       [  0.,   0.,   1.]])"
      ]
     },
     "execution_count": 19,
     "metadata": {},
     "output_type": "execute_result"
    }
   ],
   "source": [
    "camera.K"
   ]
  },
  {
   "cell_type": "markdown",
   "metadata": {},
   "source": [
    "and the camera matrix"
   ]
  },
  {
   "cell_type": "code",
   "execution_count": 20,
   "metadata": {},
   "outputs": [
    {
     "data": {
      "text/plain": [
       "array([[800.,   0., 500.,   0.],\n",
       "       [  0., 800., 500.,   0.],\n",
       "       [  0.,   0.,   1.,   0.]])"
      ]
     },
     "execution_count": 20,
     "metadata": {},
     "output_type": "execute_result"
    }
   ],
   "source": [
    "camera.C"
   ]
  },
  {
   "cell_type": "code",
   "execution_count": null,
   "metadata": {},
   "outputs": [],
   "source": []
  }
 ],
 "metadata": {
  "kernelspec": {
   "display_name": "Python 3",
   "language": "python",
   "name": "python3"
  },
  "language_info": {
   "codemirror_mode": {
    "name": "ipython",
    "version": 3
   },
   "file_extension": ".py",
   "mimetype": "text/x-python",
   "name": "python",
   "nbconvert_exporter": "python",
   "pygments_lexer": "ipython3",
   "version": "3.8.5"
  },
  "varInspector": {
   "cols": {
    "lenName": 16,
    "lenType": 16,
    "lenVar": 40
   },
   "kernels_config": {
    "python": {
     "delete_cmd_postfix": "",
     "delete_cmd_prefix": "del ",
     "library": "var_list.py",
     "varRefreshCmd": "print(var_dic_list())"
    },
    "r": {
     "delete_cmd_postfix": ") ",
     "delete_cmd_prefix": "rm(",
     "library": "var_list.r",
     "varRefreshCmd": "cat(var_dic_list()) "
    }
   },
   "types_to_exclude": [
    "module",
    "function",
    "builtin_function_or_method",
    "instance",
    "_Feature"
   ],
   "window_display": false
  }
 },
 "nbformat": 4,
 "nbformat_minor": 2
}
