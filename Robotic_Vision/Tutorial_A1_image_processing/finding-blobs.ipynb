{
 "cells": [
  {
   "cell_type": "markdown",
   "metadata": {},
   "source": [
    "<table>\n",
    "  <tr>\n",
    "    <td><div align=\"left\"><font size=\"30\">Finding blobs</font></div></td>\n",
    "    <td><img src=\"images/RVSS-logo.png\" width=\"400\"></td>\n",
    "  </tr>\n",
    "</table>"
   ]
  },
  {
   "cell_type": "code",
   "execution_count": null,
   "metadata": {},
   "outputs": [],
   "source": [
    "%matplotlib notebook\n",
    "\n",
    "import sys\n",
    "!{sys.executable} -m pip install machinevision-toolbox-python # used to install machinevision-toolbox into the kernel\n",
    "!{sys.executable} -m pip install opencv-contrib-python==4.4.0.46 # update opencv to 4.4.0\n",
    "\n",
    "from machinevisiontoolbox import Image\n",
    "import matplotlib.pyplot as plt\n",
    "import numpy as np\n",
    "\n",
    "from spatialmath import SE3\n",
    "from spatialmath import base\n",
    "\n",
    "np.set_printoptions(linewidth=120, formatter={'float': lambda x: f\"{x:8.4g}\" if abs(x) > 1e-10 else f\"{0:8.4g}\"})"
   ]
  },
  {
   "cell_type": "markdown",
   "metadata": {},
   "source": [
    "# Find objects in a binary image\n",
    "\n",
    "We start by loading a binary image"
   ]
  },
  {
   "cell_type": "code",
   "execution_count": null,
   "metadata": {},
   "outputs": [],
   "source": [
    "sharks = Image('shark2.png', grey=True)\n",
    "sharks.disp();"
   ]
  },
  {
   "cell_type": "markdown",
   "metadata": {},
   "source": [
    "When we look at this we see two white objects, vaguely shark shaped, against a black background.  But the *objects* are a mental construct of ours, the image is simply 250,000 black and white pixels.  How do group adjacent pixels of the same color to find the objects?\n",
    "\n",
    "This is a very classical computer vision problem that goes by many names: blob analysis, connectivity analysis, region labelling and many more.\n",
    "Such objects in a binary object are often called *blobs*.\n",
    "\n",
    "Using this toolbox we simply write"
   ]
  },
  {
   "cell_type": "code",
   "execution_count": null,
   "metadata": {},
   "outputs": [],
   "source": [
    "blobs = sharks.blobs()"
   ]
  },
  {
   "cell_type": "markdown",
   "metadata": {},
   "source": [
    "and the result is a feature object that describes *blobs*"
   ]
  },
  {
   "cell_type": "markdown",
   "metadata": {},
   "source": [
    "The `blobs` object can describe a number of blobs, and in this case there are"
   ]
  },
  {
   "cell_type": "code",
   "execution_count": null,
   "metadata": {},
   "outputs": [],
   "source": [
    "len(blobs)"
   ]
  },
  {
   "cell_type": "markdown",
   "metadata": {},
   "source": [
    "blobs.  The background is also a blob, a black blob, but here we are ignoring that."
   ]
  },
  {
   "cell_type": "markdown",
   "metadata": {},
   "source": [
    "This object can be indexed or sliced just like a list.  Each element has a number of properties such as its centroid (centre of mass)"
   ]
  },
  {
   "cell_type": "code",
   "execution_count": null,
   "metadata": {},
   "outputs": [],
   "source": [
    "blobs[0].centroid"
   ]
  },
  {
   "cell_type": "markdown",
   "metadata": {},
   "source": [
    "area in pixels"
   ]
  },
  {
   "cell_type": "code",
   "execution_count": null,
   "metadata": {},
   "outputs": [],
   "source": [
    "blobs[0].centroid"
   ]
  },
  {
   "cell_type": "markdown",
   "metadata": {},
   "source": [
    "and a bounding box"
   ]
  },
  {
   "cell_type": "code",
   "execution_count": null,
   "metadata": {},
   "outputs": [],
   "source": [
    "blobs[0].bbox"
   ]
  },
  {
   "cell_type": "markdown",
   "metadata": {},
   "source": [
    "where the first row is the u-axis range, and the second row is the v-axis range.  Alternatively we can consider the columns: the first column is the top-left coordinate and the second column is the bottom-right coordinate."
   ]
  },
  {
   "cell_type": "code",
   "execution_count": null,
   "metadata": {},
   "outputs": [],
   "source": [
    "sharks.disp()\n",
    "blobs.plot_labelbox(color='yellow', thickness=2)"
   ]
  },
  {
   "cell_type": "markdown",
   "metadata": {},
   "source": [
    "which depicts and labels each blob.  We could also mark the centroids by"
   ]
  },
  {
   "cell_type": "code",
   "execution_count": null,
   "metadata": {},
   "outputs": [],
   "source": [
    "blobs.plot_centroid()"
   ]
  },
  {
   "cell_type": "markdown",
   "metadata": {},
   "source": [
    "which add a marker to the plot above."
   ]
  },
  {
   "cell_type": "markdown",
   "metadata": {},
   "source": [
    "# Finding objects in the pixel classification image\n",
    "\n",
    "A key part of your project will be to develop a deep network to classify each pixel in the image according to whether it belongs to the background, an apple, pear, banana etc.  Each pixel will have a unique value that represents the object class.\n",
    "\n",
    "We will start by loading a typical image"
   ]
  },
  {
   "cell_type": "code",
   "execution_count": null,
   "metadata": {},
   "outputs": [],
   "source": [
    "fruitclass = Image('images/output_9.png', grey=True)\n",
    "fruitclass.disp();"
   ]
  },
  {
   "cell_type": "markdown",
   "metadata": {},
   "source": [
    "If we hover the mouse cursor over the image, at the bottom right we see the pixel values.  The black background has values of zero, and there are regions with non-zero values that represent particular fruit.  Note that the estimates are far from perfect, there might appear to be big chunks of a fruit missing."
   ]
  },
  {
   "cell_type": "markdown",
   "metadata": {},
   "source": [
    "To find which fruit are present we can compute a histogram"
   ]
  },
  {
   "cell_type": "code",
   "execution_count": null,
   "metadata": {},
   "outputs": [],
   "source": [
    "hist = fruitclass.hist()\n",
    "hist.plot()"
   ]
  },
  {
   "cell_type": "markdown",
   "metadata": {},
   "source": [
    "Unlike a grey scale image, there are very few unique grey levels in this image, and they are all small values.  You will need to zoom into the histogram to see this.\n",
    "\n",
    "**Q: There are 3 fruit present, what are their class labels?**"
   ]
  },
  {
   "cell_type": "markdown",
   "metadata": {},
   "source": [
    "The `hist` object has a number of attributes.  `h` is a 256x1 matrix of histogram values.  For a color image it would be a 256x3 matrix.  `x` is a "
   ]
  },
  {
   "cell_type": "markdown",
   "metadata": {},
   "source": [
    "Let make a binary image that shows just the pixels that have a value of 3"
   ]
  },
  {
   "cell_type": "code",
   "execution_count": null,
   "metadata": {},
   "outputs": [],
   "source": [
    "pear = fruitclass == 3\n",
    "pear.disp();"
   ]
  },
  {
   "cell_type": "markdown",
   "metadata": {},
   "source": [
    "and we can see that there three blobs here, but due to imperfect pixel classification the middle part of the right-hand pear is missing."
   ]
  },
  {
   "cell_type": "code",
   "execution_count": null,
   "metadata": {},
   "outputs": [],
   "source": [
    "blobs = pear.blobs()"
   ]
  },
  {
   "cell_type": "code",
   "execution_count": null,
   "metadata": {},
   "outputs": [],
   "source": [
    "print(blobs)"
   ]
  },
  {
   "cell_type": "markdown",
   "metadata": {},
   "source": [
    "Once again, we can highlight these blob in the image by"
   ]
  },
  {
   "cell_type": "code",
   "execution_count": null,
   "metadata": {},
   "outputs": [],
   "source": [
    "pear.disp()\n",
    "blobs.plot_labelbox(color='yellow', thickness=2)"
   ]
  },
  {
   "cell_type": "markdown",
   "metadata": {},
   "source": [
    "# Morphological cleanup"
   ]
  },
  {
   "cell_type": "markdown",
   "metadata": {},
   "source": [
    "We will now explore a family of computer vision algorithms referred to as mathematical morphology -- morphology because they are concerned with shape.\n",
    "\n",
    "We will create a small image of a disk"
   ]
  },
  {
   "cell_type": "code",
   "execution_count": null,
   "metadata": {},
   "outputs": [],
   "source": [
    "se = Image.kcircle(3)\n",
    "se"
   ]
  },
  {
   "cell_type": "markdown",
   "metadata": {},
   "source": [
    "which is simply a $7 \\times 7$ array with a circular patch of one valued elements.  If we display it as an image"
   ]
  },
  {
   "cell_type": "code",
   "execution_count": null,
   "metadata": {},
   "outputs": [],
   "source": [
    "plt.figure()\n",
    "plt.imshow(se, cmap='gray');"
   ]
  },
  {
   "cell_type": "markdown",
   "metadata": {},
   "source": [
    "we see that it is a bit ragged but it is hard to do much better with such a small grid.\n",
    "\n",
    "Now we will perform a morphological *dilation* operation using this disk"
   ]
  },
  {
   "cell_type": "code",
   "execution_count": null,
   "metadata": {},
   "outputs": [],
   "source": [
    "dilated = pear.dilate(se)\n",
    "dilated.disp();"
   ]
  },
  {
   "cell_type": "markdown",
   "metadata": {},
   "source": [
    "We can think of this as moving the disk to every point in the image, and if *any* point on the disk touches a one-valued pixel, the result at that location is a one.  Clearly it has filled in the hole, but it has made the blobs bigger.\n",
    "\n",
    "Now we can perform the inverse operation called morphological *erosion*"
   ]
  },
  {
   "cell_type": "code",
   "execution_count": null,
   "metadata": {},
   "outputs": [],
   "source": [
    "eroded = dilated.erode(se)\n",
    "eroded.disp();"
   ]
  },
  {
   "cell_type": "markdown",
   "metadata": {},
   "source": [
    "We can think of this operation as moving the disk to every point in the image, and if *every* point on the disk touches a one-valued pixel, the result at that location is a one.  Clearly it has reduced the blobs back to something like their original size, and it has filled in the hole.\n",
    "\n",
    "Choosing the radius of the structuring element requires a bit of trial and error (and experience).  Too small and it won't fill the gap, too big and the shape of the object will be lost.\n",
    "\n",
    "This pair of operations, dilating *then* eroding, is referred to as *closing*.  The `close` method will do this for you in a single hit.  \n",
    "\n",
    "The converse operation, eroding *then* dilating, is referred to as *opening*. It is useful for the case where two separate objects have been joined together.  This is performed by the `open` method. "
   ]
  },
  {
   "cell_type": "markdown",
   "metadata": {},
   "source": [
    "Now we can perform another blob analysis"
   ]
  },
  {
   "cell_type": "code",
   "execution_count": null,
   "metadata": {},
   "outputs": [],
   "source": [
    "blobs = eroded.blobs()\n",
    "print(blobs)\n",
    "blobs.plot_centroid()"
   ]
  },
  {
   "cell_type": "markdown",
   "metadata": {},
   "source": [
    "## Your turn!\n",
    "\n",
    "* Find the blobs for other two fruits in this image\n",
    "* Try this out on one of your own images\n",
    "* Write the code described below "
   ]
  },
  {
   "cell_type": "code",
   "execution_count": null,
   "metadata": {},
   "outputs": [],
   "source": [
    "# Q.  Write code to find the coordinate of the middle of the bottom of the bounding box.  Each blob has a number\n",
    "#     of useful attributes:\n",
    "#          uc    horizontal coordinate of the centroid\n",
    "#          vc    vertical coordinate of the centroid\n",
    "#          umin  leftmost horizontal coordinate of the blob\n",
    "#          umax  rightmost horizontal coordinate of the blob\n",
    "#          vmin  topmost vertical coordinate of the blob\n",
    "#          vmax  bottommost vertical coordinate of the blob\n",
    "#\n",
    "# The blobs object is also an iterator.\n",
    "\n",
    "\n",
    "\n"
   ]
  },
  {
   "cell_type": "markdown",
   "metadata": {},
   "source": []
  }
 ],
 "metadata": {
  "kernelspec": {
   "display_name": "conda_mxnet_p36",
   "language": "python",
   "name": "conda_mxnet_p36"
  },
  "language_info": {
   "codemirror_mode": {
    "name": "ipython",
    "version": 3
   },
   "file_extension": ".py",
   "mimetype": "text/x-python",
   "name": "python",
   "nbconvert_exporter": "python",
   "pygments_lexer": "ipython3",
   "version": "3.6.10"
  },
  "varInspector": {
   "cols": {
    "lenName": 16,
    "lenType": 16,
    "lenVar": 40
   },
   "kernels_config": {
    "python": {
     "delete_cmd_postfix": "",
     "delete_cmd_prefix": "del ",
     "library": "var_list.py",
     "varRefreshCmd": "print(var_dic_list())"
    },
    "r": {
     "delete_cmd_postfix": ") ",
     "delete_cmd_prefix": "rm(",
     "library": "var_list.r",
     "varRefreshCmd": "cat(var_dic_list()) "
    }
   },
   "types_to_exclude": [
    "module",
    "function",
    "builtin_function_or_method",
    "instance",
    "_Feature"
   ],
   "window_display": false
  }
 },
 "nbformat": 4,
 "nbformat_minor": 4
}
