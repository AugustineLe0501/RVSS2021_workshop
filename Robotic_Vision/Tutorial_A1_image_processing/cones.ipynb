{
 "cells": [
  {
   "cell_type": "markdown",
   "metadata": {},
   "source": [
    "<table>\n",
    "  <tr>\n",
    "      <td><div align=\"left\"><font size=\"20\" >Trichromatic color</font></div></td>\n",
    "     <td><img src=\"images/RVSS-logo.png\" width=\"400\"></td>\n",
    "  </tr>\n",
    "</table>"
   ]
  },
  {
   "cell_type": "markdown",
   "metadata": {},
   "source": [
    "We need to import some modules. We will use the standard `numpy` package to help us with linear algebraic operations on matrices and vectors.\n",
    "\n",
    "`common.py` is a set of specific helper functions to support these tutorials.  If you want to know what a function does, just click somewhere within the parentheses that enclose the arguments and hit SHIFT+TAB.  If there's a + button at the top of the popup tooltip, this means the documentation spans a few lines, click it to show the full docstring, then scroll up.\n"
   ]
  },
  {
   "cell_type": "code",
   "execution_count": null,
   "metadata": {},
   "outputs": [],
   "source": [
    "%matplotlib notebook\n",
    "\n",
    "import sys\n",
    "!{sys.executable} -m pip install machinevision-toolbox-python # used to install machinevision-toolbox into the kernel\n",
    "!{sys.executable} -m pip install opencv-contrib-python==4.4.0.46 # update opencv to 4.4.0\n",
    "\n",
    "import numpy as np\n",
    "import scipy as sci\n",
    "import machinevisiontoolbox as mvtb\n",
    "\n",
    "import matplotlib.pyplot as plt\n",
    "import ipywidgets as widgets\n",
    "nm = 1e-9"
   ]
  },
  {
   "cell_type": "markdown",
   "metadata": {},
   "source": [
    "# Blackbody radiation curves"
   ]
  },
  {
   "cell_type": "markdown",
   "metadata": {},
   "source": [
    "The radiance spectrum of a blackbody radiator is a function of temperature.  In the following animation you can change the temperature and see the radiance spectrum.  Have a look at the spectrum for a human body (311K), a lightbulb (2600K) and the sun (5778K), and remembering that the visible wavelengths are in the range 400-700nm."
   ]
  },
  {
   "cell_type": "code",
   "execution_count": null,
   "metadata": {},
   "outputs": [],
   "source": [
    "\n",
    "@widgets.interact\n",
    "def animate( T =  widgets.FloatSlider(value=3000, description='T (Kelvin):',  min=40, max=6000)):\n",
    "    lam = np.linspace(300, 2000, 100)\n",
    "    bb = mvtb.blackbody(lam*nm, T)\n",
    "    plt.figure()\n",
    "    plt.plot(lam, bb)\n",
    "    plt.xlabel('$\\lambda$ (nm)')\n",
    "    plt.ylabel('$E(\\lambda)$ (W/m^3)')\n",
    "    plt.grid(True)\n",
    "    plt.show()"
   ]
  },
  {
   "cell_type": "markdown",
   "metadata": {},
   "source": [
    "# Cone response\n",
    "\n",
    "The response of the human cones has been studied and tabulated and is available in the Toolbox."
   ]
  },
  {
   "cell_type": "code",
   "execution_count": null,
   "metadata": {
    "scrolled": false
   },
   "outputs": [],
   "source": [
    "λ = np.linspace(400*nm, 700*nm, 200)\n",
    "e = mvtb.loadspectrum(λ, \"cones.dat\")\n",
    "plt.figure()\n",
    "plt.gca().set_prop_cycle(color=['red', 'green', 'blue'])\n",
    "plt.plot(λ, e)\n",
    "plt.xlabel('$\\lambda$ (nm)')\n",
    "plt.ylabel('$M(\\lambda)$')\n",
    "plt.grid(True)\n",
    "plt.show()"
   ]
  },
  {
   "cell_type": "code",
   "execution_count": null,
   "metadata": {},
   "outputs": [],
   "source": [
    "@widgets.interact\n",
    "def animate( T =  widgets.FloatSlider(value=3000, description='T (Kelvin):',  min=500, max=6000)):\n",
    "    λ = np.linspace(400, 700, 200)\n",
    "    bb = mvtb.blackbody(λ*nm, T)\n",
    "\n",
    "    plt.figure()\n",
    "    plt.gca().set_prop_cycle(color=['red', 'green', 'blue'])\n",
    "    plt.plot(λ, e)  # plot cone response\n",
    "    plt.plot(λ, bb / np.max(bb), 'k--')  # plot blackbody response\n",
    "    plt.xlabel('$\\lambda$ (nm)')\n",
    "    plt.ylabel('$M(\\lambda)$')\n",
    "    plt.grid(True)\n",
    "    plt.show()\n"
   ]
  },
  {
   "cell_type": "markdown",
   "metadata": {},
   "source": [
    "# Your turn!\n",
    "\n",
    "For a blackbody radiator at 3000K determine the relative response of the red, green and blue cones. You need to convolve each cone's response with the spectrum of the light and integrate over wavelength."
   ]
  },
  {
   "cell_type": "code",
   "execution_count": null,
   "metadata": {},
   "outputs": [],
   "source": []
  }
 ],
 "metadata": {
  "kernelspec": {
   "display_name": "conda_mxnet_p36",
   "language": "python",
   "name": "conda_mxnet_p36"
  },
  "language_info": {
   "codemirror_mode": {
    "name": "ipython",
    "version": 3
   },
   "file_extension": ".py",
   "mimetype": "text/x-python",
   "name": "python",
   "nbconvert_exporter": "python",
   "pygments_lexer": "ipython3",
   "version": "3.6.10"
  },
  "toc": {
   "base_numbering": 1,
   "nav_menu": {},
   "number_sections": true,
   "sideBar": true,
   "skip_h1_title": false,
   "title_cell": "Table of Contents",
   "title_sidebar": "Contents",
   "toc_cell": false,
   "toc_position": {},
   "toc_section_display": true,
   "toc_window_display": false
  },
  "varInspector": {
   "cols": {
    "lenName": 16,
    "lenType": 16,
    "lenVar": 40
   },
   "kernels_config": {
    "python": {
     "delete_cmd_postfix": "",
     "delete_cmd_prefix": "del ",
     "library": "var_list.py",
     "varRefreshCmd": "print(var_dic_list())"
    },
    "r": {
     "delete_cmd_postfix": ") ",
     "delete_cmd_prefix": "rm(",
     "library": "var_list.r",
     "varRefreshCmd": "cat(var_dic_list()) "
    }
   },
   "types_to_exclude": [
    "module",
    "function",
    "builtin_function_or_method",
    "instance",
    "_Feature"
   ],
   "window_display": false
  }
 },
 "nbformat": 4,
 "nbformat_minor": 2
}
